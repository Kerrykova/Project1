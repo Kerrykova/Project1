{
 "cells": [
  {
   "cell_type": "code",
   "execution_count": 1,
   "metadata": {},
   "outputs": [],
   "source": [
    "import numpy as np\n",
    "import pandas as pd\n",
    "import matplotlib.pyplot as plt\n",
    "import gmaps\n",
    "\n",
    "from config import gkey\n",
    "\n",
    "gmaps.configure(api_key=gkey)"
   ]
  },
  {
   "cell_type": "code",
   "execution_count": 2,
   "metadata": {},
   "outputs": [
    {
     "data": {
      "text/html": [
       "<div>\n",
       "<style scoped>\n",
       "    .dataframe tbody tr th:only-of-type {\n",
       "        vertical-align: middle;\n",
       "    }\n",
       "\n",
       "    .dataframe tbody tr th {\n",
       "        vertical-align: top;\n",
       "    }\n",
       "\n",
       "    .dataframe thead th {\n",
       "        text-align: right;\n",
       "    }\n",
       "</style>\n",
       "<table border=\"1\" class=\"dataframe\">\n",
       "  <thead>\n",
       "    <tr style=\"text-align: right;\">\n",
       "      <th></th>\n",
       "      <th>Population_2011</th>\n",
       "      <th>Median Age_2011</th>\n",
       "      <th>Household Income_2011</th>\n",
       "      <th>Per Capita Income_2011</th>\n",
       "      <th>Population_2016</th>\n",
       "      <th>Median Age_2016</th>\n",
       "      <th>Household Income_2016</th>\n",
       "      <th>Per Capita Income_2016</th>\n",
       "      <th>PC Income Increase/Decrease</th>\n",
       "      <th>PC % Income Increase/Decrease</th>\n",
       "      <th>HH Income Increase/Decrease</th>\n",
       "      <th>HH % Income Increase/Decrease</th>\n",
       "    </tr>\n",
       "    <tr>\n",
       "      <th>Zipcodes</th>\n",
       "      <th></th>\n",
       "      <th></th>\n",
       "      <th></th>\n",
       "      <th></th>\n",
       "      <th></th>\n",
       "      <th></th>\n",
       "      <th></th>\n",
       "      <th></th>\n",
       "      <th></th>\n",
       "      <th></th>\n",
       "      <th></th>\n",
       "      <th></th>\n",
       "    </tr>\n",
       "  </thead>\n",
       "  <tbody>\n",
       "    <tr>\n",
       "      <th>78610</th>\n",
       "      <td>22052.0</td>\n",
       "      <td>35.9</td>\n",
       "      <td>82702.0</td>\n",
       "      <td>31356.0</td>\n",
       "      <td>30452.0</td>\n",
       "      <td>34.7</td>\n",
       "      <td>75453.0</td>\n",
       "      <td>30388.0</td>\n",
       "      <td>-968.0</td>\n",
       "      <td>-3.087128</td>\n",
       "      <td>-7249.0</td>\n",
       "      <td>-8.765205</td>\n",
       "    </tr>\n",
       "    <tr>\n",
       "      <th>78613</th>\n",
       "      <td>63901.0</td>\n",
       "      <td>33.9</td>\n",
       "      <td>81819.0</td>\n",
       "      <td>33101.0</td>\n",
       "      <td>75279.0</td>\n",
       "      <td>34.6</td>\n",
       "      <td>91033.0</td>\n",
       "      <td>35957.0</td>\n",
       "      <td>2856.0</td>\n",
       "      <td>8.628138</td>\n",
       "      <td>9214.0</td>\n",
       "      <td>11.261443</td>\n",
       "    </tr>\n",
       "    <tr>\n",
       "      <th>78617</th>\n",
       "      <td>18572.0</td>\n",
       "      <td>28.8</td>\n",
       "      <td>44334.0</td>\n",
       "      <td>14975.0</td>\n",
       "      <td>26126.0</td>\n",
       "      <td>30.0</td>\n",
       "      <td>47551.0</td>\n",
       "      <td>16737.0</td>\n",
       "      <td>1762.0</td>\n",
       "      <td>11.766277</td>\n",
       "      <td>3217.0</td>\n",
       "      <td>7.256282</td>\n",
       "    </tr>\n",
       "    <tr>\n",
       "      <th>78641</th>\n",
       "      <td>43655.0</td>\n",
       "      <td>32.2</td>\n",
       "      <td>67683.0</td>\n",
       "      <td>27738.0</td>\n",
       "      <td>55933.0</td>\n",
       "      <td>34.8</td>\n",
       "      <td>83526.0</td>\n",
       "      <td>33138.0</td>\n",
       "      <td>5400.0</td>\n",
       "      <td>19.467878</td>\n",
       "      <td>15843.0</td>\n",
       "      <td>23.407650</td>\n",
       "    </tr>\n",
       "    <tr>\n",
       "      <th>78652</th>\n",
       "      <td>4256.0</td>\n",
       "      <td>39.1</td>\n",
       "      <td>79107.0</td>\n",
       "      <td>37908.0</td>\n",
       "      <td>4919.0</td>\n",
       "      <td>40.1</td>\n",
       "      <td>78594.0</td>\n",
       "      <td>34131.0</td>\n",
       "      <td>-3777.0</td>\n",
       "      <td>-9.963596</td>\n",
       "      <td>-513.0</td>\n",
       "      <td>-0.648489</td>\n",
       "    </tr>\n",
       "  </tbody>\n",
       "</table>\n",
       "</div>"
      ],
      "text/plain": [
       "          Population_2011  Median Age_2011  Household Income_2011  \\\n",
       "Zipcodes                                                            \n",
       "78610             22052.0             35.9                82702.0   \n",
       "78613             63901.0             33.9                81819.0   \n",
       "78617             18572.0             28.8                44334.0   \n",
       "78641             43655.0             32.2                67683.0   \n",
       "78652              4256.0             39.1                79107.0   \n",
       "\n",
       "          Per Capita Income_2011  Population_2016  Median Age_2016  \\\n",
       "Zipcodes                                                             \n",
       "78610                    31356.0          30452.0             34.7   \n",
       "78613                    33101.0          75279.0             34.6   \n",
       "78617                    14975.0          26126.0             30.0   \n",
       "78641                    27738.0          55933.0             34.8   \n",
       "78652                    37908.0           4919.0             40.1   \n",
       "\n",
       "          Household Income_2016  Per Capita Income_2016  \\\n",
       "Zipcodes                                                  \n",
       "78610                   75453.0                 30388.0   \n",
       "78613                   91033.0                 35957.0   \n",
       "78617                   47551.0                 16737.0   \n",
       "78641                   83526.0                 33138.0   \n",
       "78652                   78594.0                 34131.0   \n",
       "\n",
       "          PC Income Increase/Decrease  PC % Income Increase/Decrease  \\\n",
       "Zipcodes                                                               \n",
       "78610                          -968.0                      -3.087128   \n",
       "78613                          2856.0                       8.628138   \n",
       "78617                          1762.0                      11.766277   \n",
       "78641                          5400.0                      19.467878   \n",
       "78652                         -3777.0                      -9.963596   \n",
       "\n",
       "          HH Income Increase/Decrease  HH % Income Increase/Decrease  \n",
       "Zipcodes                                                              \n",
       "78610                         -7249.0                      -8.765205  \n",
       "78613                          9214.0                      11.261443  \n",
       "78617                          3217.0                       7.256282  \n",
       "78641                         15843.0                      23.407650  \n",
       "78652                          -513.0                      -0.648489  "
      ]
     },
     "execution_count": 2,
     "metadata": {},
     "output_type": "execute_result"
    }
   ],
   "source": [
    "census = pd.read_pickle(\"Intermediate Data/census_with_household.pkl\")\n",
    "census.head()"
   ]
  },
  {
   "cell_type": "code",
   "execution_count": 3,
   "metadata": {},
   "outputs": [
    {
     "data": {
      "text/html": [
       "<div>\n",
       "<style scoped>\n",
       "    .dataframe tbody tr th:only-of-type {\n",
       "        vertical-align: middle;\n",
       "    }\n",
       "\n",
       "    .dataframe tbody tr th {\n",
       "        vertical-align: top;\n",
       "    }\n",
       "\n",
       "    .dataframe thead th {\n",
       "        text-align: right;\n",
       "    }\n",
       "</style>\n",
       "<table border=\"1\" class=\"dataframe\">\n",
       "  <thead>\n",
       "    <tr style=\"text-align: right;\">\n",
       "      <th></th>\n",
       "      <th>Population_2011</th>\n",
       "      <th>Median Age_2011</th>\n",
       "      <th>Household Income_2011</th>\n",
       "      <th>Per Capita Income_2011</th>\n",
       "      <th>Population_2016</th>\n",
       "      <th>Median Age_2016</th>\n",
       "      <th>Household Income_2016</th>\n",
       "      <th>Per Capita Income_2016</th>\n",
       "      <th>PC Income Increase/Decrease</th>\n",
       "      <th>PC % Income Increase/Decrease</th>\n",
       "      <th>HH Income Increase/Decrease</th>\n",
       "      <th>HH % Income Increase/Decrease</th>\n",
       "    </tr>\n",
       "    <tr>\n",
       "      <th>Zipcodes</th>\n",
       "      <th></th>\n",
       "      <th></th>\n",
       "      <th></th>\n",
       "      <th></th>\n",
       "      <th></th>\n",
       "      <th></th>\n",
       "      <th></th>\n",
       "      <th></th>\n",
       "      <th></th>\n",
       "      <th></th>\n",
       "      <th></th>\n",
       "      <th></th>\n",
       "    </tr>\n",
       "  </thead>\n",
       "  <tbody>\n",
       "    <tr>\n",
       "      <th>78610</th>\n",
       "      <td>22052.0</td>\n",
       "      <td>35.9</td>\n",
       "      <td>82702.0</td>\n",
       "      <td>31356.0</td>\n",
       "      <td>30452.0</td>\n",
       "      <td>34.7</td>\n",
       "      <td>75453.0</td>\n",
       "      <td>30388.0</td>\n",
       "      <td>-968.0</td>\n",
       "      <td>-3.087128</td>\n",
       "      <td>-7249.0</td>\n",
       "      <td>-8.765205</td>\n",
       "    </tr>\n",
       "    <tr>\n",
       "      <th>78613</th>\n",
       "      <td>63901.0</td>\n",
       "      <td>33.9</td>\n",
       "      <td>81819.0</td>\n",
       "      <td>33101.0</td>\n",
       "      <td>75279.0</td>\n",
       "      <td>34.6</td>\n",
       "      <td>91033.0</td>\n",
       "      <td>35957.0</td>\n",
       "      <td>2856.0</td>\n",
       "      <td>8.628138</td>\n",
       "      <td>9214.0</td>\n",
       "      <td>11.261443</td>\n",
       "    </tr>\n",
       "    <tr>\n",
       "      <th>78617</th>\n",
       "      <td>18572.0</td>\n",
       "      <td>28.8</td>\n",
       "      <td>44334.0</td>\n",
       "      <td>14975.0</td>\n",
       "      <td>26126.0</td>\n",
       "      <td>30.0</td>\n",
       "      <td>47551.0</td>\n",
       "      <td>16737.0</td>\n",
       "      <td>1762.0</td>\n",
       "      <td>11.766277</td>\n",
       "      <td>3217.0</td>\n",
       "      <td>7.256282</td>\n",
       "    </tr>\n",
       "    <tr>\n",
       "      <th>78641</th>\n",
       "      <td>43655.0</td>\n",
       "      <td>32.2</td>\n",
       "      <td>67683.0</td>\n",
       "      <td>27738.0</td>\n",
       "      <td>55933.0</td>\n",
       "      <td>34.8</td>\n",
       "      <td>83526.0</td>\n",
       "      <td>33138.0</td>\n",
       "      <td>5400.0</td>\n",
       "      <td>19.467878</td>\n",
       "      <td>15843.0</td>\n",
       "      <td>23.407650</td>\n",
       "    </tr>\n",
       "    <tr>\n",
       "      <th>78652</th>\n",
       "      <td>4256.0</td>\n",
       "      <td>39.1</td>\n",
       "      <td>79107.0</td>\n",
       "      <td>37908.0</td>\n",
       "      <td>4919.0</td>\n",
       "      <td>40.1</td>\n",
       "      <td>78594.0</td>\n",
       "      <td>34131.0</td>\n",
       "      <td>-3777.0</td>\n",
       "      <td>-9.963596</td>\n",
       "      <td>-513.0</td>\n",
       "      <td>-0.648489</td>\n",
       "    </tr>\n",
       "  </tbody>\n",
       "</table>\n",
       "</div>"
      ],
      "text/plain": [
       "          Population_2011  Median Age_2011  Household Income_2011  \\\n",
       "Zipcodes                                                            \n",
       "78610             22052.0             35.9                82702.0   \n",
       "78613             63901.0             33.9                81819.0   \n",
       "78617             18572.0             28.8                44334.0   \n",
       "78641             43655.0             32.2                67683.0   \n",
       "78652              4256.0             39.1                79107.0   \n",
       "\n",
       "          Per Capita Income_2011  Population_2016  Median Age_2016  \\\n",
       "Zipcodes                                                             \n",
       "78610                    31356.0          30452.0             34.7   \n",
       "78613                    33101.0          75279.0             34.6   \n",
       "78617                    14975.0          26126.0             30.0   \n",
       "78641                    27738.0          55933.0             34.8   \n",
       "78652                    37908.0           4919.0             40.1   \n",
       "\n",
       "          Household Income_2016  Per Capita Income_2016  \\\n",
       "Zipcodes                                                  \n",
       "78610                   75453.0                 30388.0   \n",
       "78613                   91033.0                 35957.0   \n",
       "78617                   47551.0                 16737.0   \n",
       "78641                   83526.0                 33138.0   \n",
       "78652                   78594.0                 34131.0   \n",
       "\n",
       "          PC Income Increase/Decrease  PC % Income Increase/Decrease  \\\n",
       "Zipcodes                                                               \n",
       "78610                          -968.0                      -3.087128   \n",
       "78613                          2856.0                       8.628138   \n",
       "78617                          1762.0                      11.766277   \n",
       "78641                          5400.0                      19.467878   \n",
       "78652                         -3777.0                      -9.963596   \n",
       "\n",
       "          HH Income Increase/Decrease  HH % Income Increase/Decrease  \n",
       "Zipcodes                                                              \n",
       "78610                         -7249.0                      -8.765205  \n",
       "78613                          9214.0                      11.261443  \n",
       "78617                          3217.0                       7.256282  \n",
       "78641                         15843.0                      23.407650  \n",
       "78652                          -513.0                      -0.648489  "
      ]
     },
     "execution_count": 3,
     "metadata": {},
     "output_type": "execute_result"
    }
   ],
   "source": [
    "#drop outlier\n",
    "census_drop = census.drop(78712)\n",
    "census_drop.head()"
   ]
  },
  {
   "cell_type": "code",
   "execution_count": 4,
   "metadata": {},
   "outputs": [
    {
     "data": {
      "text/html": [
       "<div>\n",
       "<style scoped>\n",
       "    .dataframe tbody tr th:only-of-type {\n",
       "        vertical-align: middle;\n",
       "    }\n",
       "\n",
       "    .dataframe tbody tr th {\n",
       "        vertical-align: top;\n",
       "    }\n",
       "\n",
       "    .dataframe thead th {\n",
       "        text-align: right;\n",
       "    }\n",
       "</style>\n",
       "<table border=\"1\" class=\"dataframe\">\n",
       "  <thead>\n",
       "    <tr style=\"text-align: right;\">\n",
       "      <th></th>\n",
       "      <th>Zip Code</th>\n",
       "      <th>Highest Offense Description</th>\n",
       "      <th>Number of Occurances</th>\n",
       "    </tr>\n",
       "  </thead>\n",
       "  <tbody>\n",
       "    <tr>\n",
       "      <th>0</th>\n",
       "      <td>78610</td>\n",
       "      <td>APPLIC TO REVOKE PROBATION</td>\n",
       "      <td>2</td>\n",
       "    </tr>\n",
       "    <tr>\n",
       "      <th>1</th>\n",
       "      <td>78610</td>\n",
       "      <td>BURGLARY OF VEHICLE</td>\n",
       "      <td>1</td>\n",
       "    </tr>\n",
       "    <tr>\n",
       "      <th>2</th>\n",
       "      <td>78610</td>\n",
       "      <td>CUSTODY ARREST TRAFFIC WARR</td>\n",
       "      <td>2</td>\n",
       "    </tr>\n",
       "    <tr>\n",
       "      <th>3</th>\n",
       "      <td>78610</td>\n",
       "      <td>HARASSMENT</td>\n",
       "      <td>1</td>\n",
       "    </tr>\n",
       "    <tr>\n",
       "      <th>4</th>\n",
       "      <td>78610</td>\n",
       "      <td>THEFT</td>\n",
       "      <td>1</td>\n",
       "    </tr>\n",
       "  </tbody>\n",
       "</table>\n",
       "</div>"
      ],
      "text/plain": [
       "  Zip Code  Highest Offense Description  Number of Occurances\n",
       "0    78610   APPLIC TO REVOKE PROBATION                     2\n",
       "1    78610          BURGLARY OF VEHICLE                     1\n",
       "2    78610  CUSTODY ARREST TRAFFIC WARR                     2\n",
       "3    78610                   HARASSMENT                     1\n",
       "4    78610                        THEFT                     1"
      ]
     },
     "execution_count": 4,
     "metadata": {},
     "output_type": "execute_result"
    }
   ],
   "source": [
    "crime_2011 = pd.read_pickle(\"Intermediate Data/count_zipcode_type_2011.pkl\")\n",
    "crime_2011[\"Zip Code\"] = crime_2011[\"Zip Code\"].map(\"{:.0f}\".format)\n",
    "crime_2011.head()\n"
   ]
  },
  {
   "cell_type": "code",
   "execution_count": 5,
   "metadata": {},
   "outputs": [
    {
     "data": {
      "text/html": [
       "<div>\n",
       "<style scoped>\n",
       "    .dataframe tbody tr th:only-of-type {\n",
       "        vertical-align: middle;\n",
       "    }\n",
       "\n",
       "    .dataframe tbody tr th {\n",
       "        vertical-align: top;\n",
       "    }\n",
       "\n",
       "    .dataframe thead th {\n",
       "        text-align: right;\n",
       "    }\n",
       "</style>\n",
       "<table border=\"1\" class=\"dataframe\">\n",
       "  <thead>\n",
       "    <tr style=\"text-align: right;\">\n",
       "      <th></th>\n",
       "      <th>Zip Code</th>\n",
       "      <th>Highest Offense Description</th>\n",
       "      <th>Number of Occurances</th>\n",
       "    </tr>\n",
       "  </thead>\n",
       "  <tbody>\n",
       "    <tr>\n",
       "      <th>0</th>\n",
       "      <td>78610</td>\n",
       "      <td>DAMAGE CITY PROP</td>\n",
       "      <td>1</td>\n",
       "    </tr>\n",
       "    <tr>\n",
       "      <th>1</th>\n",
       "      <td>78610</td>\n",
       "      <td>DWI  .15 BAC OR ABOVE</td>\n",
       "      <td>1</td>\n",
       "    </tr>\n",
       "    <tr>\n",
       "      <th>2</th>\n",
       "      <td>78610</td>\n",
       "      <td>FAILURE TO IDENTIFY</td>\n",
       "      <td>1</td>\n",
       "    </tr>\n",
       "    <tr>\n",
       "      <th>3</th>\n",
       "      <td>78610</td>\n",
       "      <td>TERRORISTIC THREAT</td>\n",
       "      <td>1</td>\n",
       "    </tr>\n",
       "    <tr>\n",
       "      <th>4</th>\n",
       "      <td>78613</td>\n",
       "      <td>AGG ROBBERY/DEADLY WEAPON</td>\n",
       "      <td>1</td>\n",
       "    </tr>\n",
       "  </tbody>\n",
       "</table>\n",
       "</div>"
      ],
      "text/plain": [
       "  Zip Code Highest Offense Description  Number of Occurances\n",
       "0    78610            DAMAGE CITY PROP                     1\n",
       "1    78610       DWI  .15 BAC OR ABOVE                     1\n",
       "2    78610         FAILURE TO IDENTIFY                     1\n",
       "3    78610          TERRORISTIC THREAT                     1\n",
       "4    78613   AGG ROBBERY/DEADLY WEAPON                     1"
      ]
     },
     "execution_count": 5,
     "metadata": {},
     "output_type": "execute_result"
    }
   ],
   "source": [
    "crime_2016 = pd.read_pickle(\"Intermediate Data/count_zipcode_type_2016.pkl\")\n",
    "crime_2016[\"Zip Code\"] = crime_2016[\"Zip Code\"].map(\"{:.0f}\".format)\n",
    "crime_2016.head()"
   ]
  },
  {
   "cell_type": "code",
   "execution_count": 6,
   "metadata": {},
   "outputs": [
    {
     "data": {
      "text/plain": [
       "53"
      ]
     },
     "execution_count": 6,
     "metadata": {},
     "output_type": "execute_result"
    }
   ],
   "source": [
    "crime_2011_zipcodes = crime_2011[\"Zip Code\"].unique()\n",
    "len(crime_2011_zipcodes)"
   ]
  },
  {
   "cell_type": "code",
   "execution_count": 7,
   "metadata": {},
   "outputs": [
    {
     "data": {
      "text/plain": [
       "52"
      ]
     },
     "execution_count": 7,
     "metadata": {},
     "output_type": "execute_result"
    }
   ],
   "source": [
    "crime_2016_zipcodes = crime_2016[\"Zip Code\"].unique()\n",
    "len(crime_2016_zipcodes)"
   ]
  },
  {
   "cell_type": "code",
   "execution_count": 8,
   "metadata": {},
   "outputs": [
    {
     "data": {
      "text/plain": [
       "['78640']"
      ]
     },
     "execution_count": 8,
     "metadata": {},
     "output_type": "execute_result"
    }
   ],
   "source": [
    "zipcode_difference = list(set(crime_2011_zipcodes)-set(crime_2016_zipcodes))\n",
    "zipcode_difference"
   ]
  },
  {
   "cell_type": "code",
   "execution_count": 10,
   "metadata": {},
   "outputs": [
    {
     "data": {
      "image/png": "[encoded data removed]",
      "text/plain": [
       "<Figure size 1080x1080 with 1 Axes>"
      ]
     },
     "metadata": {
      "needs_background": "light"
     },
     "output_type": "display_data"
    }
   ],
   "source": [
    "income_by_year = census_drop.plot(kind='bar',y=[\"Per Capita Income_2011\",\"Per Capita Income_2016\"], figsize=(15,15), fontsize=10)\n",
    "income_by_year.set_ylabel(\"Per Capita Income\")\n",
    "income_by_year.set_xlabel(\"Zip Code\")\n",
    "plt.title(\"Per Capita Income by Zip Code\") \n",
    "income_by_year.legend(prop={'size': 15})\n",
    "plt.savefig(\"Images/incomebyyear.png\")"
   ]
  },
  {
   "cell_type": "code",
   "execution_count": 12,
   "metadata": {},
   "outputs": [
    {
     "data": {
      "image/png": "[encoded data removed]",
      "text/plain": [
       "<Figure size 1080x1080 with 1 Axes>"
      ]
     },
     "metadata": {
      "needs_background": "light"
     },
     "output_type": "display_data"
    }
   ],
   "source": [
    "compare_pc_income_percent = census_drop.plot(kind=\"bar\", y=\"PC % Income Increase/Decrease\", figsize=(15,15), fontsize=10, legend=False, title=\"% Change in Per Capita Income by Zipcode (2011 to 2016)\")\n",
    "compare_pc_income_percent.set_ylabel(\"Change in Per Capita Income (%)\")\n",
    "compare_pc_income_percent\n",
    "plt.savefig(\"Images/PCIncomeChangePercent.png\")"
   ]
  },
  {
   "cell_type": "code",
   "execution_count": 13,
   "metadata": {},
   "outputs": [
    {
     "data": {
      "image/png": "[encoded data removed]",
      "text/plain": [
       "<Figure size 1080x1080 with 1 Axes>"
      ]
     },
     "metadata": {
      "needs_background": "light"
     },
     "output_type": "display_data"
    }
   ],
   "source": [
    "compare_hh_income_percent = census_drop.plot(kind=\"bar\", y=\"HH % Income Increase/Decrease\", figsize=(15,15), fontsize=10, legend=False, title=\"% Change in Household Income by Zipcode (2011 to 2016)\")\n",
    "compare_hh_income_percent.set_ylabel(\"Change in Household Income (%)\")\n",
    "compare_hh_income_percent\n",
    "plt.savefig(\"Images/HHIncomeChangePercent.png\")"
   ]
  },
  {
   "cell_type": "code",
   "execution_count": 14,
   "metadata": {},
   "outputs": [
    {
     "data": {
      "image/png": "[encoded data removed]",
      "text/plain": [
       "<Figure size 432x288 with 1 Axes>"
      ]
     },
     "metadata": {
      "needs_background": "light"
     },
     "output_type": "display_data"
    }
   ],
   "source": [
    "# no significant correlation between Population and PC % Income Increase/Decrease\n",
    "census_drop.plot(kind=\"scatter\", x=\"PC % Income Increase/Decrease\", y=\"Population_2016\")\n",
    "plt.title(\"Population vs Per Capita % Change by Zip Code (2011-2016)\")\n",
    "plt.ylabel(\"2016 Population by Zip Code\")\n",
    "plt.xlabel(\"PC % Income Increase/Decrease by Zip Code\")\n",
    "plt.savefig(\"Images/PCIncomeChangePopulation.png\")\n",
    "plt.show()"
   ]
  },
  {
   "cell_type": "code",
   "execution_count": 15,
   "metadata": {},
   "outputs": [
    {
     "data": {
      "image/png": "[encoded data removed]",
      "text/plain": [
       "<Figure size 432x288 with 1 Axes>"
      ]
     },
     "metadata": {
      "needs_background": "light"
     },
     "output_type": "display_data"
    }
   ],
   "source": [
    "# no significant correlation between Median Age and PC % Income Increase/Decrease\n",
    "census_drop.plot(kind=\"scatter\", x=\"PC % Income Increase/Decrease\", y=\"Median Age_2016\")\n",
    "plt.title(\"Median Age vs Per Capita % Change by Zip Code (2011-2016)\")\n",
    "plt.ylabel(\"2016 Median Age by Zip Code\")\n",
    "plt.xlabel(\"PC % Income Increase/Decrease by Zip Code\")\n",
    "plt.savefig(\"Images/PCIncomeChangeAge.png\")\n",
    "plt.show()"
   ]
  },
  {
   "cell_type": "code",
   "execution_count": 16,
   "metadata": {},
   "outputs": [
    {
     "data": {
      "text/html": [
       "<div>\n",
       "<style scoped>\n",
       "    .dataframe tbody tr th:only-of-type {\n",
       "        vertical-align: middle;\n",
       "    }\n",
       "\n",
       "    .dataframe tbody tr th {\n",
       "        vertical-align: top;\n",
       "    }\n",
       "\n",
       "    .dataframe thead th {\n",
       "        text-align: right;\n",
       "    }\n",
       "</style>\n",
       "<table border=\"1\" class=\"dataframe\">\n",
       "  <thead>\n",
       "    <tr style=\"text-align: right;\">\n",
       "      <th></th>\n",
       "      <th>Number of Offenses 2011</th>\n",
       "      <th>Number of Offenses 2016</th>\n",
       "      <th>Difference (2011-2016)</th>\n",
       "    </tr>\n",
       "    <tr>\n",
       "      <th>Zipcode</th>\n",
       "      <th></th>\n",
       "      <th></th>\n",
       "      <th></th>\n",
       "    </tr>\n",
       "  </thead>\n",
       "  <tbody>\n",
       "    <tr>\n",
       "      <th>78610</th>\n",
       "      <td>7</td>\n",
       "      <td>4.0</td>\n",
       "      <td>3.0</td>\n",
       "    </tr>\n",
       "    <tr>\n",
       "      <th>78613</th>\n",
       "      <td>439</td>\n",
       "      <td>505.0</td>\n",
       "      <td>-66.0</td>\n",
       "    </tr>\n",
       "    <tr>\n",
       "      <th>78617</th>\n",
       "      <td>1093</td>\n",
       "      <td>941.0</td>\n",
       "      <td>152.0</td>\n",
       "    </tr>\n",
       "    <tr>\n",
       "      <th>78640</th>\n",
       "      <td>1</td>\n",
       "      <td>NaN</td>\n",
       "      <td>NaN</td>\n",
       "    </tr>\n",
       "    <tr>\n",
       "      <th>78652</th>\n",
       "      <td>33</td>\n",
       "      <td>45.0</td>\n",
       "      <td>-12.0</td>\n",
       "    </tr>\n",
       "  </tbody>\n",
       "</table>\n",
       "</div>"
      ],
      "text/plain": [
       "         Number of Offenses 2011  Number of Offenses 2016  \\\n",
       "Zipcode                                                     \n",
       "78610                          7                      4.0   \n",
       "78613                        439                    505.0   \n",
       "78617                       1093                    941.0   \n",
       "78640                          1                      NaN   \n",
       "78652                         33                     45.0   \n",
       "\n",
       "         Difference (2011-2016)  \n",
       "Zipcode                          \n",
       "78610                       3.0  \n",
       "78613                     -66.0  \n",
       "78617                     152.0  \n",
       "78640                       NaN  \n",
       "78652                     -12.0  "
      ]
     },
     "execution_count": 16,
     "metadata": {},
     "output_type": "execute_result"
    }
   ],
   "source": [
    "#merge crime dataframes\n",
    "crime_2011_groupby = crime_2011.groupby(\"Zip Code\")\n",
    "crime_2011_sum = crime_2011_groupby[\"Number of Occurances\"].sum()\n",
    "crime_2016_groupby = crime_2016.groupby(\"Zip Code\")\n",
    "crime_2016_sum = crime_2016_groupby[\"Number of Occurances\"].sum()\n",
    "crime = pd.DataFrame({\n",
    "    \"Number of Offenses 2011\": crime_2011_sum,\n",
    "    \"Number of Offenses 2016\": crime_2016_sum,\n",
    "    \"Difference (2011-2016)\": crime_2011_sum - crime_2016_sum\n",
    "})\n",
    "\n",
    "\n",
    "crime.index.name = \"Zipcode\"\n",
    "\n",
    "\n",
    "crime.head()"
   ]
  },
  {
   "cell_type": "code",
   "execution_count": 17,
   "metadata": {},
   "outputs": [],
   "source": [
    "\n",
    "crime_narrowed = pd.read_pickle(\"Intermediate Data/crime_2011_2016.pkl\")\n",
    "crime_drop = pd.read_pickle(\"Intermediate Data/filtered_crime_df.pkl\")\n",
    "\n",
    "crime_narrowed_2011 = crime_drop.loc[crime_narrowed[\"Year\"] == 2011]\n",
    "crime_count_2011 = crime_narrowed_2011[\"Zip Code\"].value_counts()\n",
    "\n",
    "crime_narrowed_2016 = crime_drop.loc[crime_narrowed[\"Year\"] == 2016]\n",
    "crime_count_2016 = crime_narrowed_2016[\"Zip Code\"].value_counts()\n"
   ]
  },
  {
   "cell_type": "code",
   "execution_count": 18,
   "metadata": {},
   "outputs": [
    {
     "name": "stdout",
     "output_type": "stream",
     "text": [
      "53\n",
      "52\n",
      "['78640']\n"
     ]
    }
   ],
   "source": [
    "zipcode_2011 = crime_narrowed_2011[\"Zip Code\"].unique()\n",
    "zipcode_2016 = crime_narrowed_2016[\"Zip Code\"].unique()\n",
    "print(len(zipcode_2011))\n",
    "print(len(zipcode_2016))\n",
    "zipcode_difference = list(set(zipcode_2011)-set(zipcode_2016))\n",
    "print(zipcode_difference)"
   ]
  },
  {
   "cell_type": "code",
   "execution_count": 19,
   "metadata": {},
   "outputs": [],
   "source": [
    "census = pd.read_pickle(\"Intermediate Data/census_with_household.pkl\")\n"
   ]
  },
  {
   "cell_type": "code",
   "execution_count": 20,
   "metadata": {},
   "outputs": [],
   "source": [
    "crime_narrowed_2011_drop = crime_narrowed_2011.drop(1394611)\n",
    "crime_count_2011_drop = crime_narrowed_2011_drop[\"Zip Code\"].value_counts()\n",
    "df_crime_count = pd.DataFrame({\n",
    "    \"2011\": crime_count_2011_drop,\n",
    "    \"2016\": crime_count_2016,\n",
    "    \"Change\": crime_count_2016 - crime_count_2011_drop,\n",
    "})\n",
    "\n",
    "df_crime_count.index.name=\"Zipcode\"\n"
   ]
  },
  {
   "cell_type": "code",
   "execution_count": 21,
   "metadata": {},
   "outputs": [
    {
     "data": {
      "image/png": "[encoded data removed]",
      "text/plain": [
       "<Figure size 1080x1080 with 1 Axes>"
      ]
     },
     "metadata": {
      "needs_background": "light"
     },
     "output_type": "display_data"
    }
   ],
   "source": [
    "crime_by_year = df_crime_count.plot(kind='bar',y=[\"2011\",\"2016\"], figsize=(15,15), fontsize=10)\n",
    "crime_by_year.set_ylabel(\"Number of Crimes\")\n",
    "crime_by_year.legend(prop={'size': 15})\n",
    "plt.title(\"Number of Crimes per Zip Code\")\n",
    "plt.savefig(\"Images/CrimeCount.png\")"
   ]
  },
  {
   "cell_type": "code",
   "execution_count": 25,
   "metadata": {},
   "outputs": [
    {
     "data": {
      "text/html": [
       "<div>\n",
       "<style scoped>\n",
       "    .dataframe tbody tr th:only-of-type {\n",
       "        vertical-align: middle;\n",
       "    }\n",
       "\n",
       "    .dataframe tbody tr th {\n",
       "        vertical-align: top;\n",
       "    }\n",
       "\n",
       "    .dataframe thead th {\n",
       "        text-align: right;\n",
       "    }\n",
       "</style>\n",
       "<table border=\"1\" class=\"dataframe\">\n",
       "  <thead>\n",
       "    <tr style=\"text-align: right;\">\n",
       "      <th></th>\n",
       "      <th>Population_2011</th>\n",
       "      <th>Median Age_2011</th>\n",
       "      <th>Household Income_2011</th>\n",
       "      <th>Per Capita Income_2011</th>\n",
       "      <th>Population_2016</th>\n",
       "      <th>Median Age_2016</th>\n",
       "      <th>Household Income_2016</th>\n",
       "      <th>Per Capita Income_2016</th>\n",
       "      <th>PC Income Increase/Decrease</th>\n",
       "      <th>PC % Income Increase/Decrease</th>\n",
       "      <th>HH Income Increase/Decrease</th>\n",
       "      <th>HH % Income Increase/Decrease</th>\n",
       "      <th>Crime Count 2011</th>\n",
       "      <th>Crime Count 2016</th>\n",
       "      <th>Change in Crime</th>\n",
       "      <th>% Change in Crime</th>\n",
       "      <th>Population Change</th>\n",
       "      <th>% Population Change</th>\n",
       "    </tr>\n",
       "    <tr>\n",
       "      <th>Zipcodes</th>\n",
       "      <th></th>\n",
       "      <th></th>\n",
       "      <th></th>\n",
       "      <th></th>\n",
       "      <th></th>\n",
       "      <th></th>\n",
       "      <th></th>\n",
       "      <th></th>\n",
       "      <th></th>\n",
       "      <th></th>\n",
       "      <th></th>\n",
       "      <th></th>\n",
       "      <th></th>\n",
       "      <th></th>\n",
       "      <th></th>\n",
       "      <th></th>\n",
       "      <th></th>\n",
       "      <th></th>\n",
       "    </tr>\n",
       "  </thead>\n",
       "  <tbody>\n",
       "    <tr>\n",
       "      <th>78610</th>\n",
       "      <td>22052.0</td>\n",
       "      <td>35.9</td>\n",
       "      <td>82702.0</td>\n",
       "      <td>31356.0</td>\n",
       "      <td>30452.0</td>\n",
       "      <td>34.7</td>\n",
       "      <td>75453.0</td>\n",
       "      <td>30388.0</td>\n",
       "      <td>-968.0</td>\n",
       "      <td>-3.087128</td>\n",
       "      <td>-7249.0</td>\n",
       "      <td>-8.765205</td>\n",
       "      <td>7.0</td>\n",
       "      <td>4.0</td>\n",
       "      <td>-3.0</td>\n",
       "      <td>-42.857143</td>\n",
       "      <td>8400.0</td>\n",
       "      <td>38.091783</td>\n",
       "    </tr>\n",
       "    <tr>\n",
       "      <th>78613</th>\n",
       "      <td>63901.0</td>\n",
       "      <td>33.9</td>\n",
       "      <td>81819.0</td>\n",
       "      <td>33101.0</td>\n",
       "      <td>75279.0</td>\n",
       "      <td>34.6</td>\n",
       "      <td>91033.0</td>\n",
       "      <td>35957.0</td>\n",
       "      <td>2856.0</td>\n",
       "      <td>8.628138</td>\n",
       "      <td>9214.0</td>\n",
       "      <td>11.261443</td>\n",
       "      <td>439.0</td>\n",
       "      <td>505.0</td>\n",
       "      <td>66.0</td>\n",
       "      <td>15.034169</td>\n",
       "      <td>11378.0</td>\n",
       "      <td>17.805668</td>\n",
       "    </tr>\n",
       "    <tr>\n",
       "      <th>78617</th>\n",
       "      <td>18572.0</td>\n",
       "      <td>28.8</td>\n",
       "      <td>44334.0</td>\n",
       "      <td>14975.0</td>\n",
       "      <td>26126.0</td>\n",
       "      <td>30.0</td>\n",
       "      <td>47551.0</td>\n",
       "      <td>16737.0</td>\n",
       "      <td>1762.0</td>\n",
       "      <td>11.766277</td>\n",
       "      <td>3217.0</td>\n",
       "      <td>7.256282</td>\n",
       "      <td>1093.0</td>\n",
       "      <td>941.0</td>\n",
       "      <td>-152.0</td>\n",
       "      <td>-13.906679</td>\n",
       "      <td>7554.0</td>\n",
       "      <td>40.674133</td>\n",
       "    </tr>\n",
       "    <tr>\n",
       "      <th>78641</th>\n",
       "      <td>43655.0</td>\n",
       "      <td>32.2</td>\n",
       "      <td>67683.0</td>\n",
       "      <td>27738.0</td>\n",
       "      <td>55933.0</td>\n",
       "      <td>34.8</td>\n",
       "      <td>83526.0</td>\n",
       "      <td>33138.0</td>\n",
       "      <td>5400.0</td>\n",
       "      <td>19.467878</td>\n",
       "      <td>15843.0</td>\n",
       "      <td>23.407650</td>\n",
       "      <td>NaN</td>\n",
       "      <td>NaN</td>\n",
       "      <td>NaN</td>\n",
       "      <td>NaN</td>\n",
       "      <td>12278.0</td>\n",
       "      <td>28.125072</td>\n",
       "    </tr>\n",
       "    <tr>\n",
       "      <th>78652</th>\n",
       "      <td>4256.0</td>\n",
       "      <td>39.1</td>\n",
       "      <td>79107.0</td>\n",
       "      <td>37908.0</td>\n",
       "      <td>4919.0</td>\n",
       "      <td>40.1</td>\n",
       "      <td>78594.0</td>\n",
       "      <td>34131.0</td>\n",
       "      <td>-3777.0</td>\n",
       "      <td>-9.963596</td>\n",
       "      <td>-513.0</td>\n",
       "      <td>-0.648489</td>\n",
       "      <td>33.0</td>\n",
       "      <td>45.0</td>\n",
       "      <td>12.0</td>\n",
       "      <td>36.363636</td>\n",
       "      <td>663.0</td>\n",
       "      <td>15.578008</td>\n",
       "    </tr>\n",
       "  </tbody>\n",
       "</table>\n",
       "</div>"
      ],
      "text/plain": [
       "          Population_2011  Median Age_2011  Household Income_2011  \\\n",
       "Zipcodes                                                            \n",
       "78610             22052.0             35.9                82702.0   \n",
       "78613             63901.0             33.9                81819.0   \n",
       "78617             18572.0             28.8                44334.0   \n",
       "78641             43655.0             32.2                67683.0   \n",
       "78652              4256.0             39.1                79107.0   \n",
       "\n",
       "          Per Capita Income_2011  Population_2016  Median Age_2016  \\\n",
       "Zipcodes                                                             \n",
       "78610                    31356.0          30452.0             34.7   \n",
       "78613                    33101.0          75279.0             34.6   \n",
       "78617                    14975.0          26126.0             30.0   \n",
       "78641                    27738.0          55933.0             34.8   \n",
       "78652                    37908.0           4919.0             40.1   \n",
       "\n",
       "          Household Income_2016  Per Capita Income_2016  \\\n",
       "Zipcodes                                                  \n",
       "78610                   75453.0                 30388.0   \n",
       "78613                   91033.0                 35957.0   \n",
       "78617                   47551.0                 16737.0   \n",
       "78641                   83526.0                 33138.0   \n",
       "78652                   78594.0                 34131.0   \n",
       "\n",
       "          PC Income Increase/Decrease  PC % Income Increase/Decrease  \\\n",
       "Zipcodes                                                               \n",
       "78610                          -968.0                      -3.087128   \n",
       "78613                          2856.0                       8.628138   \n",
       "78617                          1762.0                      11.766277   \n",
       "78641                          5400.0                      19.467878   \n",
       "78652                         -3777.0                      -9.963596   \n",
       "\n",
       "          HH Income Increase/Decrease  HH % Income Increase/Decrease  \\\n",
       "Zipcodes                                                               \n",
       "78610                         -7249.0                      -8.765205   \n",
       "78613                          9214.0                      11.261443   \n",
       "78617                          3217.0                       7.256282   \n",
       "78641                         15843.0                      23.407650   \n",
       "78652                          -513.0                      -0.648489   \n",
       "\n",
       "          Crime Count 2011  Crime Count 2016  Change in Crime  \\\n",
       "Zipcodes                                                        \n",
       "78610                  7.0               4.0             -3.0   \n",
       "78613                439.0             505.0             66.0   \n",
       "78617               1093.0             941.0           -152.0   \n",
       "78641                  NaN               NaN              NaN   \n",
       "78652                 33.0              45.0             12.0   \n",
       "\n",
       "          % Change in Crime  Population Change  % Population Change  \n",
       "Zipcodes                                                             \n",
       "78610            -42.857143             8400.0            38.091783  \n",
       "78613             15.034169            11378.0            17.805668  \n",
       "78617            -13.906679             7554.0            40.674133  \n",
       "78641                   NaN            12278.0            28.125072  \n",
       "78652             36.363636              663.0            15.578008  "
      ]
     },
     "execution_count": 25,
     "metadata": {},
     "output_type": "execute_result"
    }
   ],
   "source": [
    "df_crime_count.index = df_crime_count.index.astype(int)\n",
    "crime_census = census\n",
    "crime_census[\"Crime Count 2011\"] = df_crime_count[\"2011\"]\n",
    "crime_census[\"Crime Count 2016\"] = df_crime_count[\"2016\"]\n",
    "crime_census[\"Change in Crime\"] = df_crime_count[\"Change\"]\n",
    "crime_census[\"% Change in Crime\"] = df_crime_count[\"Change\"]/df_crime_count[\"2011\"]*100\n",
    "crime_census[\"Population Change\"] = crime_census[\"Population_2016\"] - crime_census[\"Population_2011\"]\n",
    "crime_census[\"% Population Change\"] = crime_census[\"Population Change\"]/crime_census[\"Population_2011\"]*100\n",
    "crime_census.head()\n"
   ]
  },
  {
   "cell_type": "code",
   "execution_count": 30,
   "metadata": {},
   "outputs": [
    {
     "ename": "KeyError",
     "evalue": "'% Change in Crime'",
     "output_type": "error",
     "traceback": [
      "\u001b[0;31m---------------------------------------------------------------------------\u001b[0m",
      "\u001b[0;31mKeyError\u001b[0m                                  Traceback (most recent call last)",
      "\u001b[0;32m/anaconda3/envs/tuesday_pandas/lib/python3.6/site-packages/pandas/core/indexes/base.py\u001b[0m in \u001b[0;36mget_loc\u001b[0;34m(self, key, method, tolerance)\u001b[0m\n\u001b[1;32m   3077\u001b[0m             \u001b[0;32mtry\u001b[0m\u001b[0;34m:\u001b[0m\u001b[0;34m\u001b[0m\u001b[0;34m\u001b[0m\u001b[0m\n\u001b[0;32m-> 3078\u001b[0;31m                 \u001b[0;32mreturn\u001b[0m \u001b[0mself\u001b[0m\u001b[0;34m.\u001b[0m\u001b[0m_engine\u001b[0m\u001b[0;34m.\u001b[0m\u001b[0mget_loc\u001b[0m\u001b[0;34m(\u001b[0m\u001b[0mkey\u001b[0m\u001b[0;34m)\u001b[0m\u001b[0;34m\u001b[0m\u001b[0;34m\u001b[0m\u001b[0m\n\u001b[0m\u001b[1;32m   3079\u001b[0m             \u001b[0;32mexcept\u001b[0m \u001b[0mKeyError\u001b[0m\u001b[0;34m:\u001b[0m\u001b[0;34m\u001b[0m\u001b[0;34m\u001b[0m\u001b[0m\n",
      "\u001b[0;32mpandas/_libs/index.pyx\u001b[0m in \u001b[0;36mpandas._libs.index.IndexEngine.get_loc\u001b[0;34m()\u001b[0m\n",
      "\u001b[0;32mpandas/_libs/index.pyx\u001b[0m in \u001b[0;36mpandas._libs.index.IndexEngine.get_loc\u001b[0;34m()\u001b[0m\n",
      "\u001b[0;32mpandas/_libs/hashtable_class_helper.pxi\u001b[0m in \u001b[0;36mpandas._libs.hashtable.PyObjectHashTable.get_item\u001b[0;34m()\u001b[0m\n",
      "\u001b[0;32mpandas/_libs/hashtable_class_helper.pxi\u001b[0m in \u001b[0;36mpandas._libs.hashtable.PyObjectHashTable.get_item\u001b[0;34m()\u001b[0m\n",
      "\u001b[0;31mKeyError\u001b[0m: '% Change in Crime'",
      "\nDuring handling of the above exception, another exception occurred:\n",
      "\u001b[0;31mKeyError\u001b[0m                                  Traceback (most recent call last)",
      "\u001b[0;32m<ipython-input-30-5ed814c97a9d>\u001b[0m in \u001b[0;36m<module>\u001b[0;34m\u001b[0m\n\u001b[0;32m----> 1\u001b[0;31m \u001b[0mplt\u001b[0m\u001b[0;34m.\u001b[0m\u001b[0mbar\u001b[0m\u001b[0;34m(\u001b[0m\u001b[0mx\u001b[0m\u001b[0;34m=\u001b[0m\u001b[0mdf_crime_count\u001b[0m\u001b[0;34m.\u001b[0m\u001b[0mindex\u001b[0m\u001b[0;34m,\u001b[0m\u001b[0my\u001b[0m\u001b[0;34m=\u001b[0m\u001b[0mdf_crime_count\u001b[0m\u001b[0;34m[\u001b[0m\u001b[0;34m\"% Change in Crime\"\u001b[0m\u001b[0;34m]\u001b[0m\u001b[0;34m)\u001b[0m\u001b[0;34m\u001b[0m\u001b[0;34m\u001b[0m\u001b[0m\n\u001b[0m",
      "\u001b[0;32m/anaconda3/envs/tuesday_pandas/lib/python3.6/site-packages/pandas/core/frame.py\u001b[0m in \u001b[0;36m__getitem__\u001b[0;34m(self, key)\u001b[0m\n\u001b[1;32m   2686\u001b[0m             \u001b[0;32mreturn\u001b[0m \u001b[0mself\u001b[0m\u001b[0;34m.\u001b[0m\u001b[0m_getitem_multilevel\u001b[0m\u001b[0;34m(\u001b[0m\u001b[0mkey\u001b[0m\u001b[0;34m)\u001b[0m\u001b[0;34m\u001b[0m\u001b[0;34m\u001b[0m\u001b[0m\n\u001b[1;32m   2687\u001b[0m         \u001b[0;32melse\u001b[0m\u001b[0;34m:\u001b[0m\u001b[0;34m\u001b[0m\u001b[0;34m\u001b[0m\u001b[0m\n\u001b[0;32m-> 2688\u001b[0;31m             \u001b[0;32mreturn\u001b[0m \u001b[0mself\u001b[0m\u001b[0;34m.\u001b[0m\u001b[0m_getitem_column\u001b[0m\u001b[0;34m(\u001b[0m\u001b[0mkey\u001b[0m\u001b[0;34m)\u001b[0m\u001b[0;34m\u001b[0m\u001b[0;34m\u001b[0m\u001b[0m\n\u001b[0m\u001b[1;32m   2689\u001b[0m \u001b[0;34m\u001b[0m\u001b[0m\n\u001b[1;32m   2690\u001b[0m     \u001b[0;32mdef\u001b[0m \u001b[0m_getitem_column\u001b[0m\u001b[0;34m(\u001b[0m\u001b[0mself\u001b[0m\u001b[0;34m,\u001b[0m \u001b[0mkey\u001b[0m\u001b[0;34m)\u001b[0m\u001b[0;34m:\u001b[0m\u001b[0;34m\u001b[0m\u001b[0;34m\u001b[0m\u001b[0m\n",
      "\u001b[0;32m/anaconda3/envs/tuesday_pandas/lib/python3.6/site-packages/pandas/core/frame.py\u001b[0m in \u001b[0;36m_getitem_column\u001b[0;34m(self, key)\u001b[0m\n\u001b[1;32m   2693\u001b[0m         \u001b[0;31m# get column\u001b[0m\u001b[0;34m\u001b[0m\u001b[0;34m\u001b[0m\u001b[0;34m\u001b[0m\u001b[0m\n\u001b[1;32m   2694\u001b[0m         \u001b[0;32mif\u001b[0m \u001b[0mself\u001b[0m\u001b[0;34m.\u001b[0m\u001b[0mcolumns\u001b[0m\u001b[0;34m.\u001b[0m\u001b[0mis_unique\u001b[0m\u001b[0;34m:\u001b[0m\u001b[0;34m\u001b[0m\u001b[0;34m\u001b[0m\u001b[0m\n\u001b[0;32m-> 2695\u001b[0;31m             \u001b[0;32mreturn\u001b[0m \u001b[0mself\u001b[0m\u001b[0;34m.\u001b[0m\u001b[0m_get_item_cache\u001b[0m\u001b[0;34m(\u001b[0m\u001b[0mkey\u001b[0m\u001b[0;34m)\u001b[0m\u001b[0;34m\u001b[0m\u001b[0;34m\u001b[0m\u001b[0m\n\u001b[0m\u001b[1;32m   2696\u001b[0m \u001b[0;34m\u001b[0m\u001b[0m\n\u001b[1;32m   2697\u001b[0m         \u001b[0;31m# duplicate columns & possible reduce dimensionality\u001b[0m\u001b[0;34m\u001b[0m\u001b[0;34m\u001b[0m\u001b[0;34m\u001b[0m\u001b[0m\n",
      "\u001b[0;32m/anaconda3/envs/tuesday_pandas/lib/python3.6/site-packages/pandas/core/generic.py\u001b[0m in \u001b[0;36m_get_item_cache\u001b[0;34m(self, item)\u001b[0m\n\u001b[1;32m   2487\u001b[0m         \u001b[0mres\u001b[0m \u001b[0;34m=\u001b[0m \u001b[0mcache\u001b[0m\u001b[0;34m.\u001b[0m\u001b[0mget\u001b[0m\u001b[0;34m(\u001b[0m\u001b[0mitem\u001b[0m\u001b[0;34m)\u001b[0m\u001b[0;34m\u001b[0m\u001b[0;34m\u001b[0m\u001b[0m\n\u001b[1;32m   2488\u001b[0m         \u001b[0;32mif\u001b[0m \u001b[0mres\u001b[0m \u001b[0;32mis\u001b[0m \u001b[0;32mNone\u001b[0m\u001b[0;34m:\u001b[0m\u001b[0;34m\u001b[0m\u001b[0;34m\u001b[0m\u001b[0m\n\u001b[0;32m-> 2489\u001b[0;31m             \u001b[0mvalues\u001b[0m \u001b[0;34m=\u001b[0m \u001b[0mself\u001b[0m\u001b[0;34m.\u001b[0m\u001b[0m_data\u001b[0m\u001b[0;34m.\u001b[0m\u001b[0mget\u001b[0m\u001b[0;34m(\u001b[0m\u001b[0mitem\u001b[0m\u001b[0;34m)\u001b[0m\u001b[0;34m\u001b[0m\u001b[0;34m\u001b[0m\u001b[0m\n\u001b[0m\u001b[1;32m   2490\u001b[0m             \u001b[0mres\u001b[0m \u001b[0;34m=\u001b[0m \u001b[0mself\u001b[0m\u001b[0;34m.\u001b[0m\u001b[0m_box_item_values\u001b[0m\u001b[0;34m(\u001b[0m\u001b[0mitem\u001b[0m\u001b[0;34m,\u001b[0m \u001b[0mvalues\u001b[0m\u001b[0;34m)\u001b[0m\u001b[0;34m\u001b[0m\u001b[0;34m\u001b[0m\u001b[0m\n\u001b[1;32m   2491\u001b[0m             \u001b[0mcache\u001b[0m\u001b[0;34m[\u001b[0m\u001b[0mitem\u001b[0m\u001b[0;34m]\u001b[0m \u001b[0;34m=\u001b[0m \u001b[0mres\u001b[0m\u001b[0;34m\u001b[0m\u001b[0;34m\u001b[0m\u001b[0m\n",
      "\u001b[0;32m/anaconda3/envs/tuesday_pandas/lib/python3.6/site-packages/pandas/core/internals.py\u001b[0m in \u001b[0;36mget\u001b[0;34m(self, item, fastpath)\u001b[0m\n\u001b[1;32m   4113\u001b[0m \u001b[0;34m\u001b[0m\u001b[0m\n\u001b[1;32m   4114\u001b[0m             \u001b[0;32mif\u001b[0m \u001b[0;32mnot\u001b[0m \u001b[0misna\u001b[0m\u001b[0;34m(\u001b[0m\u001b[0mitem\u001b[0m\u001b[0;34m)\u001b[0m\u001b[0;34m:\u001b[0m\u001b[0;34m\u001b[0m\u001b[0;34m\u001b[0m\u001b[0m\n\u001b[0;32m-> 4115\u001b[0;31m                 \u001b[0mloc\u001b[0m \u001b[0;34m=\u001b[0m \u001b[0mself\u001b[0m\u001b[0;34m.\u001b[0m\u001b[0mitems\u001b[0m\u001b[0;34m.\u001b[0m\u001b[0mget_loc\u001b[0m\u001b[0;34m(\u001b[0m\u001b[0mitem\u001b[0m\u001b[0;34m)\u001b[0m\u001b[0;34m\u001b[0m\u001b[0;34m\u001b[0m\u001b[0m\n\u001b[0m\u001b[1;32m   4116\u001b[0m             \u001b[0;32melse\u001b[0m\u001b[0;34m:\u001b[0m\u001b[0;34m\u001b[0m\u001b[0;34m\u001b[0m\u001b[0m\n\u001b[1;32m   4117\u001b[0m                 \u001b[0mindexer\u001b[0m \u001b[0;34m=\u001b[0m \u001b[0mnp\u001b[0m\u001b[0;34m.\u001b[0m\u001b[0marange\u001b[0m\u001b[0;34m(\u001b[0m\u001b[0mlen\u001b[0m\u001b[0;34m(\u001b[0m\u001b[0mself\u001b[0m\u001b[0;34m.\u001b[0m\u001b[0mitems\u001b[0m\u001b[0;34m)\u001b[0m\u001b[0;34m)\u001b[0m\u001b[0;34m[\u001b[0m\u001b[0misna\u001b[0m\u001b[0;34m(\u001b[0m\u001b[0mself\u001b[0m\u001b[0;34m.\u001b[0m\u001b[0mitems\u001b[0m\u001b[0;34m)\u001b[0m\u001b[0;34m]\u001b[0m\u001b[0;34m\u001b[0m\u001b[0;34m\u001b[0m\u001b[0m\n",
      "\u001b[0;32m/anaconda3/envs/tuesday_pandas/lib/python3.6/site-packages/pandas/core/indexes/base.py\u001b[0m in \u001b[0;36mget_loc\u001b[0;34m(self, key, method, tolerance)\u001b[0m\n\u001b[1;32m   3078\u001b[0m                 \u001b[0;32mreturn\u001b[0m \u001b[0mself\u001b[0m\u001b[0;34m.\u001b[0m\u001b[0m_engine\u001b[0m\u001b[0;34m.\u001b[0m\u001b[0mget_loc\u001b[0m\u001b[0;34m(\u001b[0m\u001b[0mkey\u001b[0m\u001b[0;34m)\u001b[0m\u001b[0;34m\u001b[0m\u001b[0;34m\u001b[0m\u001b[0m\n\u001b[1;32m   3079\u001b[0m             \u001b[0;32mexcept\u001b[0m \u001b[0mKeyError\u001b[0m\u001b[0;34m:\u001b[0m\u001b[0;34m\u001b[0m\u001b[0;34m\u001b[0m\u001b[0m\n\u001b[0;32m-> 3080\u001b[0;31m                 \u001b[0;32mreturn\u001b[0m \u001b[0mself\u001b[0m\u001b[0;34m.\u001b[0m\u001b[0m_engine\u001b[0m\u001b[0;34m.\u001b[0m\u001b[0mget_loc\u001b[0m\u001b[0;34m(\u001b[0m\u001b[0mself\u001b[0m\u001b[0;34m.\u001b[0m\u001b[0m_maybe_cast_indexer\u001b[0m\u001b[0;34m(\u001b[0m\u001b[0mkey\u001b[0m\u001b[0;34m)\u001b[0m\u001b[0;34m)\u001b[0m\u001b[0;34m\u001b[0m\u001b[0;34m\u001b[0m\u001b[0m\n\u001b[0m\u001b[1;32m   3081\u001b[0m \u001b[0;34m\u001b[0m\u001b[0m\n\u001b[1;32m   3082\u001b[0m         \u001b[0mindexer\u001b[0m \u001b[0;34m=\u001b[0m \u001b[0mself\u001b[0m\u001b[0;34m.\u001b[0m\u001b[0mget_indexer\u001b[0m\u001b[0;34m(\u001b[0m\u001b[0;34m[\u001b[0m\u001b[0mkey\u001b[0m\u001b[0;34m]\u001b[0m\u001b[0;34m,\u001b[0m \u001b[0mmethod\u001b[0m\u001b[0;34m=\u001b[0m\u001b[0mmethod\u001b[0m\u001b[0;34m,\u001b[0m \u001b[0mtolerance\u001b[0m\u001b[0;34m=\u001b[0m\u001b[0mtolerance\u001b[0m\u001b[0;34m)\u001b[0m\u001b[0;34m\u001b[0m\u001b[0;34m\u001b[0m\u001b[0m\n",
      "\u001b[0;32mpandas/_libs/index.pyx\u001b[0m in \u001b[0;36mpandas._libs.index.IndexEngine.get_loc\u001b[0;34m()\u001b[0m\n",
      "\u001b[0;32mpandas/_libs/index.pyx\u001b[0m in \u001b[0;36mpandas._libs.index.IndexEngine.get_loc\u001b[0;34m()\u001b[0m\n",
      "\u001b[0;32mpandas/_libs/hashtable_class_helper.pxi\u001b[0m in \u001b[0;36mpandas._libs.hashtable.PyObjectHashTable.get_item\u001b[0;34m()\u001b[0m\n",
      "\u001b[0;32mpandas/_libs/hashtable_class_helper.pxi\u001b[0m in \u001b[0;36mpandas._libs.hashtable.PyObjectHashTable.get_item\u001b[0;34m()\u001b[0m\n",
      "\u001b[0;31mKeyError\u001b[0m: '% Change in Crime'"
     ]
    }
   ],
   "source": [
    "plt.bar(x=df_crime_count.index,y=df_crime_count[\"% Change in Crime\"])"
   ]
  },
  {
   "cell_type": "code",
   "execution_count": 26,
   "metadata": {},
   "outputs": [
    {
     "ename": "KeyError",
     "evalue": "'% Change in Crime'",
     "output_type": "error",
     "traceback": [
      "\u001b[0;31m---------------------------------------------------------------------------\u001b[0m",
      "\u001b[0;31mKeyError\u001b[0m                                  Traceback (most recent call last)",
      "\u001b[0;32m/anaconda3/envs/tuesday_pandas/lib/python3.6/site-packages/pandas/core/indexes/base.py\u001b[0m in \u001b[0;36mget_loc\u001b[0;34m(self, key, method, tolerance)\u001b[0m\n\u001b[1;32m   3077\u001b[0m             \u001b[0;32mtry\u001b[0m\u001b[0;34m:\u001b[0m\u001b[0;34m\u001b[0m\u001b[0;34m\u001b[0m\u001b[0m\n\u001b[0;32m-> 3078\u001b[0;31m                 \u001b[0;32mreturn\u001b[0m \u001b[0mself\u001b[0m\u001b[0;34m.\u001b[0m\u001b[0m_engine\u001b[0m\u001b[0;34m.\u001b[0m\u001b[0mget_loc\u001b[0m\u001b[0;34m(\u001b[0m\u001b[0mkey\u001b[0m\u001b[0;34m)\u001b[0m\u001b[0;34m\u001b[0m\u001b[0;34m\u001b[0m\u001b[0m\n\u001b[0m\u001b[1;32m   3079\u001b[0m             \u001b[0;32mexcept\u001b[0m \u001b[0mKeyError\u001b[0m\u001b[0;34m:\u001b[0m\u001b[0;34m\u001b[0m\u001b[0;34m\u001b[0m\u001b[0m\n",
      "\u001b[0;32mpandas/_libs/index.pyx\u001b[0m in \u001b[0;36mpandas._libs.index.IndexEngine.get_loc\u001b[0;34m()\u001b[0m\n",
      "\u001b[0;32mpandas/_libs/index.pyx\u001b[0m in \u001b[0;36mpandas._libs.index.IndexEngine.get_loc\u001b[0;34m()\u001b[0m\n",
      "\u001b[0;32mpandas/_libs/hashtable_class_helper.pxi\u001b[0m in \u001b[0;36mpandas._libs.hashtable.PyObjectHashTable.get_item\u001b[0;34m()\u001b[0m\n",
      "\u001b[0;32mpandas/_libs/hashtable_class_helper.pxi\u001b[0m in \u001b[0;36mpandas._libs.hashtable.PyObjectHashTable.get_item\u001b[0;34m()\u001b[0m\n",
      "\u001b[0;31mKeyError\u001b[0m: '% Change in Crime'",
      "\nDuring handling of the above exception, another exception occurred:\n",
      "\u001b[0;31mKeyError\u001b[0m                                  Traceback (most recent call last)",
      "\u001b[0;32m<ipython-input-26-52c01259ee2b>\u001b[0m in \u001b[0;36m<module>\u001b[0;34m\u001b[0m\n\u001b[0;32m----> 1\u001b[0;31m \u001b[0mcrime_change\u001b[0m \u001b[0;34m=\u001b[0m \u001b[0mdf_crime_count\u001b[0m\u001b[0;34m.\u001b[0m\u001b[0mplot\u001b[0m\u001b[0;34m(\u001b[0m\u001b[0mkind\u001b[0m\u001b[0;34m=\u001b[0m\u001b[0;34m\"bar\"\u001b[0m\u001b[0;34m,\u001b[0m \u001b[0my\u001b[0m\u001b[0;34m=\u001b[0m\u001b[0;34m\"% Change in Crime\"\u001b[0m\u001b[0;34m,\u001b[0m \u001b[0mfigsize\u001b[0m\u001b[0;34m=\u001b[0m\u001b[0;34m(\u001b[0m\u001b[0;36m15\u001b[0m\u001b[0;34m,\u001b[0m\u001b[0;36m15\u001b[0m\u001b[0;34m)\u001b[0m\u001b[0;34m,\u001b[0m \u001b[0mfontsize\u001b[0m\u001b[0;34m=\u001b[0m\u001b[0;36m10\u001b[0m\u001b[0;34m,\u001b[0m \u001b[0mlegend\u001b[0m\u001b[0;34m=\u001b[0m\u001b[0;32mFalse\u001b[0m\u001b[0;34m,\u001b[0m \u001b[0mtitle\u001b[0m\u001b[0;34m=\u001b[0m\u001b[0;34m\"% Change in Household Income by Zipcode (2011 to 2016)\"\u001b[0m\u001b[0;34m)\u001b[0m\u001b[0;34m\u001b[0m\u001b[0;34m\u001b[0m\u001b[0m\n\u001b[0m\u001b[1;32m      2\u001b[0m \u001b[0mcrime_change\u001b[0m\u001b[0;34m.\u001b[0m\u001b[0mset_ylabel\u001b[0m\u001b[0;34m(\u001b[0m\u001b[0;34m\"Change in Crime (%)\"\u001b[0m\u001b[0;34m)\u001b[0m\u001b[0;34m\u001b[0m\u001b[0;34m\u001b[0m\u001b[0m\n\u001b[1;32m      3\u001b[0m \u001b[0mplt\u001b[0m\u001b[0;34m.\u001b[0m\u001b[0mtitle\u001b[0m\u001b[0;34m(\u001b[0m\u001b[0;34m\"% Change in Crime by Zip Code\"\u001b[0m\u001b[0;34m)\u001b[0m\u001b[0;34m\u001b[0m\u001b[0;34m\u001b[0m\u001b[0m\n\u001b[1;32m      4\u001b[0m \u001b[0mplt\u001b[0m\u001b[0;34m.\u001b[0m\u001b[0msavefig\u001b[0m\u001b[0;34m(\u001b[0m\u001b[0;34m\"Images/HHIncomeChangePercent.png\"\u001b[0m\u001b[0;34m)\u001b[0m\u001b[0;34m\u001b[0m\u001b[0;34m\u001b[0m\u001b[0m\n",
      "\u001b[0;32m/anaconda3/envs/tuesday_pandas/lib/python3.6/site-packages/pandas/plotting/_core.py\u001b[0m in \u001b[0;36m__call__\u001b[0;34m(self, x, y, kind, ax, subplots, sharex, sharey, layout, figsize, use_index, title, grid, legend, style, logx, logy, loglog, xticks, yticks, xlim, ylim, rot, fontsize, colormap, table, yerr, xerr, secondary_y, sort_columns, **kwds)\u001b[0m\n\u001b[1;32m   2939\u001b[0m                           \u001b[0mfontsize\u001b[0m\u001b[0;34m=\u001b[0m\u001b[0mfontsize\u001b[0m\u001b[0;34m,\u001b[0m \u001b[0mcolormap\u001b[0m\u001b[0;34m=\u001b[0m\u001b[0mcolormap\u001b[0m\u001b[0;34m,\u001b[0m \u001b[0mtable\u001b[0m\u001b[0;34m=\u001b[0m\u001b[0mtable\u001b[0m\u001b[0;34m,\u001b[0m\u001b[0;34m\u001b[0m\u001b[0;34m\u001b[0m\u001b[0m\n\u001b[1;32m   2940\u001b[0m                           \u001b[0myerr\u001b[0m\u001b[0;34m=\u001b[0m\u001b[0myerr\u001b[0m\u001b[0;34m,\u001b[0m \u001b[0mxerr\u001b[0m\u001b[0;34m=\u001b[0m\u001b[0mxerr\u001b[0m\u001b[0;34m,\u001b[0m \u001b[0msecondary_y\u001b[0m\u001b[0;34m=\u001b[0m\u001b[0msecondary_y\u001b[0m\u001b[0;34m,\u001b[0m\u001b[0;34m\u001b[0m\u001b[0;34m\u001b[0m\u001b[0m\n\u001b[0;32m-> 2941\u001b[0;31m                           sort_columns=sort_columns, **kwds)\n\u001b[0m\u001b[1;32m   2942\u001b[0m     \u001b[0m__call__\u001b[0m\u001b[0;34m.\u001b[0m\u001b[0m__doc__\u001b[0m \u001b[0;34m=\u001b[0m \u001b[0mplot_frame\u001b[0m\u001b[0;34m.\u001b[0m\u001b[0m__doc__\u001b[0m\u001b[0;34m\u001b[0m\u001b[0;34m\u001b[0m\u001b[0m\n\u001b[1;32m   2943\u001b[0m \u001b[0;34m\u001b[0m\u001b[0m\n",
      "\u001b[0;32m/anaconda3/envs/tuesday_pandas/lib/python3.6/site-packages/pandas/plotting/_core.py\u001b[0m in \u001b[0;36mplot_frame\u001b[0;34m(data, x, y, kind, ax, subplots, sharex, sharey, layout, figsize, use_index, title, grid, legend, style, logx, logy, loglog, xticks, yticks, xlim, ylim, rot, fontsize, colormap, table, yerr, xerr, secondary_y, sort_columns, **kwds)\u001b[0m\n\u001b[1;32m   1975\u001b[0m                  \u001b[0myerr\u001b[0m\u001b[0;34m=\u001b[0m\u001b[0myerr\u001b[0m\u001b[0;34m,\u001b[0m \u001b[0mxerr\u001b[0m\u001b[0;34m=\u001b[0m\u001b[0mxerr\u001b[0m\u001b[0;34m,\u001b[0m\u001b[0;34m\u001b[0m\u001b[0;34m\u001b[0m\u001b[0m\n\u001b[1;32m   1976\u001b[0m                  \u001b[0msecondary_y\u001b[0m\u001b[0;34m=\u001b[0m\u001b[0msecondary_y\u001b[0m\u001b[0;34m,\u001b[0m \u001b[0msort_columns\u001b[0m\u001b[0;34m=\u001b[0m\u001b[0msort_columns\u001b[0m\u001b[0;34m,\u001b[0m\u001b[0;34m\u001b[0m\u001b[0;34m\u001b[0m\u001b[0m\n\u001b[0;32m-> 1977\u001b[0;31m                  **kwds)\n\u001b[0m\u001b[1;32m   1978\u001b[0m \u001b[0;34m\u001b[0m\u001b[0m\n\u001b[1;32m   1979\u001b[0m \u001b[0;34m\u001b[0m\u001b[0m\n",
      "\u001b[0;32m/anaconda3/envs/tuesday_pandas/lib/python3.6/site-packages/pandas/plotting/_core.py\u001b[0m in \u001b[0;36m_plot\u001b[0;34m(data, x, y, subplots, ax, kind, **kwds)\u001b[0m\n\u001b[1;32m   1786\u001b[0m \u001b[0;34m\u001b[0m\u001b[0m\n\u001b[1;32m   1787\u001b[0m                 \u001b[0;31m# don't overwrite\u001b[0m\u001b[0;34m\u001b[0m\u001b[0;34m\u001b[0m\u001b[0;34m\u001b[0m\u001b[0m\n\u001b[0;32m-> 1788\u001b[0;31m                 \u001b[0mdata\u001b[0m \u001b[0;34m=\u001b[0m \u001b[0mdata\u001b[0m\u001b[0;34m[\u001b[0m\u001b[0my\u001b[0m\u001b[0;34m]\u001b[0m\u001b[0;34m.\u001b[0m\u001b[0mcopy\u001b[0m\u001b[0;34m(\u001b[0m\u001b[0;34m)\u001b[0m\u001b[0;34m\u001b[0m\u001b[0;34m\u001b[0m\u001b[0m\n\u001b[0m\u001b[1;32m   1789\u001b[0m \u001b[0;34m\u001b[0m\u001b[0m\n\u001b[1;32m   1790\u001b[0m                 \u001b[0;32mif\u001b[0m \u001b[0misinstance\u001b[0m\u001b[0;34m(\u001b[0m\u001b[0mdata\u001b[0m\u001b[0;34m,\u001b[0m \u001b[0mABCSeries\u001b[0m\u001b[0;34m)\u001b[0m\u001b[0;34m:\u001b[0m\u001b[0;34m\u001b[0m\u001b[0;34m\u001b[0m\u001b[0m\n",
      "\u001b[0;32m/anaconda3/envs/tuesday_pandas/lib/python3.6/site-packages/pandas/core/frame.py\u001b[0m in \u001b[0;36m__getitem__\u001b[0;34m(self, key)\u001b[0m\n\u001b[1;32m   2686\u001b[0m             \u001b[0;32mreturn\u001b[0m \u001b[0mself\u001b[0m\u001b[0;34m.\u001b[0m\u001b[0m_getitem_multilevel\u001b[0m\u001b[0;34m(\u001b[0m\u001b[0mkey\u001b[0m\u001b[0;34m)\u001b[0m\u001b[0;34m\u001b[0m\u001b[0;34m\u001b[0m\u001b[0m\n\u001b[1;32m   2687\u001b[0m         \u001b[0;32melse\u001b[0m\u001b[0;34m:\u001b[0m\u001b[0;34m\u001b[0m\u001b[0;34m\u001b[0m\u001b[0m\n\u001b[0;32m-> 2688\u001b[0;31m             \u001b[0;32mreturn\u001b[0m \u001b[0mself\u001b[0m\u001b[0;34m.\u001b[0m\u001b[0m_getitem_column\u001b[0m\u001b[0;34m(\u001b[0m\u001b[0mkey\u001b[0m\u001b[0;34m)\u001b[0m\u001b[0;34m\u001b[0m\u001b[0;34m\u001b[0m\u001b[0m\n\u001b[0m\u001b[1;32m   2689\u001b[0m \u001b[0;34m\u001b[0m\u001b[0m\n\u001b[1;32m   2690\u001b[0m     \u001b[0;32mdef\u001b[0m \u001b[0m_getitem_column\u001b[0m\u001b[0;34m(\u001b[0m\u001b[0mself\u001b[0m\u001b[0;34m,\u001b[0m \u001b[0mkey\u001b[0m\u001b[0;34m)\u001b[0m\u001b[0;34m:\u001b[0m\u001b[0;34m\u001b[0m\u001b[0;34m\u001b[0m\u001b[0m\n",
      "\u001b[0;32m/anaconda3/envs/tuesday_pandas/lib/python3.6/site-packages/pandas/core/frame.py\u001b[0m in \u001b[0;36m_getitem_column\u001b[0;34m(self, key)\u001b[0m\n\u001b[1;32m   2693\u001b[0m         \u001b[0;31m# get column\u001b[0m\u001b[0;34m\u001b[0m\u001b[0;34m\u001b[0m\u001b[0;34m\u001b[0m\u001b[0m\n\u001b[1;32m   2694\u001b[0m         \u001b[0;32mif\u001b[0m \u001b[0mself\u001b[0m\u001b[0;34m.\u001b[0m\u001b[0mcolumns\u001b[0m\u001b[0;34m.\u001b[0m\u001b[0mis_unique\u001b[0m\u001b[0;34m:\u001b[0m\u001b[0;34m\u001b[0m\u001b[0;34m\u001b[0m\u001b[0m\n\u001b[0;32m-> 2695\u001b[0;31m             \u001b[0;32mreturn\u001b[0m \u001b[0mself\u001b[0m\u001b[0;34m.\u001b[0m\u001b[0m_get_item_cache\u001b[0m\u001b[0;34m(\u001b[0m\u001b[0mkey\u001b[0m\u001b[0;34m)\u001b[0m\u001b[0;34m\u001b[0m\u001b[0;34m\u001b[0m\u001b[0m\n\u001b[0m\u001b[1;32m   2696\u001b[0m \u001b[0;34m\u001b[0m\u001b[0m\n\u001b[1;32m   2697\u001b[0m         \u001b[0;31m# duplicate columns & possible reduce dimensionality\u001b[0m\u001b[0;34m\u001b[0m\u001b[0;34m\u001b[0m\u001b[0;34m\u001b[0m\u001b[0m\n",
      "\u001b[0;32m/anaconda3/envs/tuesday_pandas/lib/python3.6/site-packages/pandas/core/generic.py\u001b[0m in \u001b[0;36m_get_item_cache\u001b[0;34m(self, item)\u001b[0m\n\u001b[1;32m   2487\u001b[0m         \u001b[0mres\u001b[0m \u001b[0;34m=\u001b[0m \u001b[0mcache\u001b[0m\u001b[0;34m.\u001b[0m\u001b[0mget\u001b[0m\u001b[0;34m(\u001b[0m\u001b[0mitem\u001b[0m\u001b[0;34m)\u001b[0m\u001b[0;34m\u001b[0m\u001b[0;34m\u001b[0m\u001b[0m\n\u001b[1;32m   2488\u001b[0m         \u001b[0;32mif\u001b[0m \u001b[0mres\u001b[0m \u001b[0;32mis\u001b[0m \u001b[0;32mNone\u001b[0m\u001b[0;34m:\u001b[0m\u001b[0;34m\u001b[0m\u001b[0;34m\u001b[0m\u001b[0m\n\u001b[0;32m-> 2489\u001b[0;31m             \u001b[0mvalues\u001b[0m \u001b[0;34m=\u001b[0m \u001b[0mself\u001b[0m\u001b[0;34m.\u001b[0m\u001b[0m_data\u001b[0m\u001b[0;34m.\u001b[0m\u001b[0mget\u001b[0m\u001b[0;34m(\u001b[0m\u001b[0mitem\u001b[0m\u001b[0;34m)\u001b[0m\u001b[0;34m\u001b[0m\u001b[0;34m\u001b[0m\u001b[0m\n\u001b[0m\u001b[1;32m   2490\u001b[0m             \u001b[0mres\u001b[0m \u001b[0;34m=\u001b[0m \u001b[0mself\u001b[0m\u001b[0;34m.\u001b[0m\u001b[0m_box_item_values\u001b[0m\u001b[0;34m(\u001b[0m\u001b[0mitem\u001b[0m\u001b[0;34m,\u001b[0m \u001b[0mvalues\u001b[0m\u001b[0;34m)\u001b[0m\u001b[0;34m\u001b[0m\u001b[0;34m\u001b[0m\u001b[0m\n\u001b[1;32m   2491\u001b[0m             \u001b[0mcache\u001b[0m\u001b[0;34m[\u001b[0m\u001b[0mitem\u001b[0m\u001b[0;34m]\u001b[0m \u001b[0;34m=\u001b[0m \u001b[0mres\u001b[0m\u001b[0;34m\u001b[0m\u001b[0;34m\u001b[0m\u001b[0m\n",
      "\u001b[0;32m/anaconda3/envs/tuesday_pandas/lib/python3.6/site-packages/pandas/core/internals.py\u001b[0m in \u001b[0;36mget\u001b[0;34m(self, item, fastpath)\u001b[0m\n\u001b[1;32m   4113\u001b[0m \u001b[0;34m\u001b[0m\u001b[0m\n\u001b[1;32m   4114\u001b[0m             \u001b[0;32mif\u001b[0m \u001b[0;32mnot\u001b[0m \u001b[0misna\u001b[0m\u001b[0;34m(\u001b[0m\u001b[0mitem\u001b[0m\u001b[0;34m)\u001b[0m\u001b[0;34m:\u001b[0m\u001b[0;34m\u001b[0m\u001b[0;34m\u001b[0m\u001b[0m\n\u001b[0;32m-> 4115\u001b[0;31m                 \u001b[0mloc\u001b[0m \u001b[0;34m=\u001b[0m \u001b[0mself\u001b[0m\u001b[0;34m.\u001b[0m\u001b[0mitems\u001b[0m\u001b[0;34m.\u001b[0m\u001b[0mget_loc\u001b[0m\u001b[0;34m(\u001b[0m\u001b[0mitem\u001b[0m\u001b[0;34m)\u001b[0m\u001b[0;34m\u001b[0m\u001b[0;34m\u001b[0m\u001b[0m\n\u001b[0m\u001b[1;32m   4116\u001b[0m             \u001b[0;32melse\u001b[0m\u001b[0;34m:\u001b[0m\u001b[0;34m\u001b[0m\u001b[0;34m\u001b[0m\u001b[0m\n\u001b[1;32m   4117\u001b[0m                 \u001b[0mindexer\u001b[0m \u001b[0;34m=\u001b[0m \u001b[0mnp\u001b[0m\u001b[0;34m.\u001b[0m\u001b[0marange\u001b[0m\u001b[0;34m(\u001b[0m\u001b[0mlen\u001b[0m\u001b[0;34m(\u001b[0m\u001b[0mself\u001b[0m\u001b[0;34m.\u001b[0m\u001b[0mitems\u001b[0m\u001b[0;34m)\u001b[0m\u001b[0;34m)\u001b[0m\u001b[0;34m[\u001b[0m\u001b[0misna\u001b[0m\u001b[0;34m(\u001b[0m\u001b[0mself\u001b[0m\u001b[0;34m.\u001b[0m\u001b[0mitems\u001b[0m\u001b[0;34m)\u001b[0m\u001b[0;34m]\u001b[0m\u001b[0;34m\u001b[0m\u001b[0;34m\u001b[0m\u001b[0m\n",
      "\u001b[0;32m/anaconda3/envs/tuesday_pandas/lib/python3.6/site-packages/pandas/core/indexes/base.py\u001b[0m in \u001b[0;36mget_loc\u001b[0;34m(self, key, method, tolerance)\u001b[0m\n\u001b[1;32m   3078\u001b[0m                 \u001b[0;32mreturn\u001b[0m \u001b[0mself\u001b[0m\u001b[0;34m.\u001b[0m\u001b[0m_engine\u001b[0m\u001b[0;34m.\u001b[0m\u001b[0mget_loc\u001b[0m\u001b[0;34m(\u001b[0m\u001b[0mkey\u001b[0m\u001b[0;34m)\u001b[0m\u001b[0;34m\u001b[0m\u001b[0;34m\u001b[0m\u001b[0m\n\u001b[1;32m   3079\u001b[0m             \u001b[0;32mexcept\u001b[0m \u001b[0mKeyError\u001b[0m\u001b[0;34m:\u001b[0m\u001b[0;34m\u001b[0m\u001b[0;34m\u001b[0m\u001b[0m\n\u001b[0;32m-> 3080\u001b[0;31m                 \u001b[0;32mreturn\u001b[0m \u001b[0mself\u001b[0m\u001b[0;34m.\u001b[0m\u001b[0m_engine\u001b[0m\u001b[0;34m.\u001b[0m\u001b[0mget_loc\u001b[0m\u001b[0;34m(\u001b[0m\u001b[0mself\u001b[0m\u001b[0;34m.\u001b[0m\u001b[0m_maybe_cast_indexer\u001b[0m\u001b[0;34m(\u001b[0m\u001b[0mkey\u001b[0m\u001b[0;34m)\u001b[0m\u001b[0;34m)\u001b[0m\u001b[0;34m\u001b[0m\u001b[0;34m\u001b[0m\u001b[0m\n\u001b[0m\u001b[1;32m   3081\u001b[0m \u001b[0;34m\u001b[0m\u001b[0m\n\u001b[1;32m   3082\u001b[0m         \u001b[0mindexer\u001b[0m \u001b[0;34m=\u001b[0m \u001b[0mself\u001b[0m\u001b[0;34m.\u001b[0m\u001b[0mget_indexer\u001b[0m\u001b[0;34m(\u001b[0m\u001b[0;34m[\u001b[0m\u001b[0mkey\u001b[0m\u001b[0;34m]\u001b[0m\u001b[0;34m,\u001b[0m \u001b[0mmethod\u001b[0m\u001b[0;34m=\u001b[0m\u001b[0mmethod\u001b[0m\u001b[0;34m,\u001b[0m \u001b[0mtolerance\u001b[0m\u001b[0;34m=\u001b[0m\u001b[0mtolerance\u001b[0m\u001b[0;34m)\u001b[0m\u001b[0;34m\u001b[0m\u001b[0;34m\u001b[0m\u001b[0m\n",
      "\u001b[0;32mpandas/_libs/index.pyx\u001b[0m in \u001b[0;36mpandas._libs.index.IndexEngine.get_loc\u001b[0;34m()\u001b[0m\n",
      "\u001b[0;32mpandas/_libs/index.pyx\u001b[0m in \u001b[0;36mpandas._libs.index.IndexEngine.get_loc\u001b[0;34m()\u001b[0m\n",
      "\u001b[0;32mpandas/_libs/hashtable_class_helper.pxi\u001b[0m in \u001b[0;36mpandas._libs.hashtable.PyObjectHashTable.get_item\u001b[0;34m()\u001b[0m\n",
      "\u001b[0;32mpandas/_libs/hashtable_class_helper.pxi\u001b[0m in \u001b[0;36mpandas._libs.hashtable.PyObjectHashTable.get_item\u001b[0;34m()\u001b[0m\n",
      "\u001b[0;31mKeyError\u001b[0m: '% Change in Crime'"
     ]
    }
   ],
   "source": [
    "crime_change = df_crime_count.plot(kind=\"bar\", y=\"% Change in Crime\", figsize=(15,15), fontsize=10, legend=False, title=\"% Change in Household Income by Zipcode (2011 to 2016)\")\n",
    "crime_change.set_ylabel(\"Change in Crime (%)\")\n",
    "plt.title(\"% Change in Crime by Zip Code\")\n",
    "plt.savefig(\"Images/HHIncomeChangePercent.png\")"
   ]
  },
  {
   "cell_type": "code",
   "execution_count": null,
   "metadata": {},
   "outputs": [],
   "source": [
    "crime_census.plot(kind='scatter', x='PC % Income Increase/Decrease', y=\"% Change in Crime\")\n",
    "plt.title(\"% Change in Crime vs % Change in Per Capita Income\")\n",
    "plt.xlabel(\"% Change in Per Capita Income\")"
   ]
  },
  {
   "cell_type": "code",
   "execution_count": null,
   "metadata": {},
   "outputs": [],
   "source": [
    "crime_census.plot(kind='scatter', x='HH % Income Increase/Decrease', y=\"% Change in Crime\")\n",
    "plt.title(\"% Change in Crime vs % Change in Household Income\")\n",
    "plt.xlabel(\"% Change in Household Income\")"
   ]
  },
  {
   "cell_type": "code",
   "execution_count": null,
   "metadata": {},
   "outputs": [],
   "source": [
    "crime_census.plot(kind=\"scatter\", y=\"% Change in Crime\", x=\"Population_2016\")\n",
    "plt.title(\"% Change in Crime vs Population by Zip Code (2011-2016)\")\n",
    "plt.xlabel(\"2016 Population by Zip Code\")\n",
    "plt.ylabel(\"% Change in Crime by Zip Code\")\n",
    "plt.savefig(\"Images/CrimePopulation.png\")\n",
    "plt.show()"
   ]
  },
  {
   "cell_type": "code",
   "execution_count": null,
   "metadata": {},
   "outputs": [],
   "source": [
    "crime_census.plot(kind=\"scatter\", x=\"% Change in Crime\", y=\"Median Age_2016\")\n",
    "plt.title(\"Median Age and % Change in Crime (2011-2016)\")\n",
    "plt.ylabel(\"2016 Median Age by Zip Code\")\n",
    "plt.xlabel(\"% Change in Crime by Zip Code\")\n",
    "plt.savefig(\"Images/CrimeAge.png\")\n",
    "plt.show()"
   ]
  },
  {
   "cell_type": "code",
   "execution_count": null,
   "metadata": {},
   "outputs": [],
   "source": [
    "crime_census.plot(kind=\"scatter\", y=\"% Change in Crime\", x=\"Median Age_2016\")\n",
    "plt.title(\"% Change in Crime vs Median Age (2011-2016)\")\n",
    "plt.xlabel(\"2016 Median Age by Zip Code\")\n",
    "plt.ylabel(\"% Change in Crime by Zip Code\")\n",
    "plt.savefig(\"Images/CrimeAge.png\")\n",
    "plt.show()"
   ]
  },
  {
   "cell_type": "code",
   "execution_count": null,
   "metadata": {},
   "outputs": [],
   "source": [
    "plt.scatter(y=crime_census[\"Crime Count 2016\"],x=crime_census[\"Per Capita Income_2016\"], color='C1', label='2016')\n",
    "plt.scatter(y=crime_census[\"Crime Count 2011\"],x=crime_census[\"Per Capita Income_2011\"], color='C0', label='2011')\n",
    "plt.legend()\n",
    "\n",
    "plt.title(\"Crime Count vs Per Capita Income\")\n",
    "plt.xlabel(\"Per Capita Income\")\n",
    "plt.ylabel(\"Crime Count\")\n",
    "plt.savefig(\"Images/crime_pcincome.png\")\n",
    "plt.show()\n"
   ]
  },
  {
   "cell_type": "code",
   "execution_count": null,
   "metadata": {},
   "outputs": [],
   "source": [
    "plt.scatter(y=crime_census[\"Crime Count 2016\"],x=crime_census[\"Household Income_2016\"], color='C1', label='2016')\n",
    "plt.scatter(y=crime_census[\"Crime Count 2011\"],x=crime_census[\"Household Income_2011\"], color='C0', label='2011')\n",
    "plt.legend()\n",
    "plt.xlim(0,150000)\n",
    "plt.title(\"Crime Count vs Household Income\")\n",
    "plt.xlabel(\"Household Income\")\n",
    "plt.ylabel(\"Crime Count\")\n",
    "plt.savefig(\"Images/crime_hhincome.png\")\n",
    "plt.show()"
   ]
  },
  {
   "cell_type": "code",
   "execution_count": null,
   "metadata": {},
   "outputs": [],
   "source": [
    "new_df = crime_drop.dropna()\n",
    "new_df.count()\n",
    "locations = list(new_df[\"Location\"])\n",
    "\n",
    "new_df.head()"
   ]
  },
  {
   "cell_type": "code",
   "execution_count": null,
   "metadata": {},
   "outputs": [],
   "source": [
    "# Customize the size of the figure\n",
    "figure_layout = {\n",
    "    'width': '800px',\n",
    "    'height': '600px',\n",
    "    'border': '1px solid black',\n",
    "    'padding': '1px',\n",
    "    'margin': '0 auto 0 auto'\n",
    "}\n",
    "austin_coord = (30.267,-97.743)\n",
    "\n",
    "\n",
    "fig = gmaps.figure(center=austin_coord,zoom_level=10, layout=figure_layout)\n",
    "heatmap_layer = gmaps.heatmap_layer(new_df[[\"Latitude\",\"Longitude\"]])\n",
    "fig.add_layer(heatmap_layer)\n",
    "fig"
   ]
  },
  {
   "cell_type": "code",
   "execution_count": null,
   "metadata": {},
   "outputs": [],
   "source": []
  }
 ],
 "metadata": {
  "kernelspec": {
   "display_name": "tuesday_pandas",
   "language": "python",
   "name": "tuesday_pandas"
  },
  "language_info": {
   "codemirror_mode": {
    "name": "ipython",
    "version": 3
   },
   "file_extension": ".py",
   "mimetype": "text/x-python",
   "name": "python",
   "nbconvert_exporter": "python",
   "pygments_lexer": "ipython3",
   "version": "3.6.7"
  }
 },
 "nbformat": 4,
 "nbformat_minor": 2
}
